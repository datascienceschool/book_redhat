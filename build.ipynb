{
 "cells": [
  {
   "cell_type": "markdown",
   "id": "ec1297df",
   "metadata": {},
   "source": [
    "# 소스 빌드"
   ]
  },
  {
   "cell_type": "markdown",
   "id": "a7bc6e14",
   "metadata": {},
   "source": []
  }
 ],
 "metadata": {
  "language_info": {
   "name": "python"
  }
 },
 "nbformat": 4,
 "nbformat_minor": 5
}
