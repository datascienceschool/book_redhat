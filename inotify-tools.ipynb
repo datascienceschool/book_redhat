{
 "cells": [
  {
   "cell_type": "markdown",
   "id": "78c5721d",
   "metadata": {},
   "source": [
    "# inotify-tools"
   ]
  },
  {
   "cell_type": "markdown",
   "id": "921d1231",
   "metadata": {},
   "source": []
  }
 ],
 "metadata": {
  "language_info": {
   "name": "python"
  }
 },
 "nbformat": 4,
 "nbformat_minor": 5
}
