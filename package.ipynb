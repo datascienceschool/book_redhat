{
 "cells": [
  {
   "cell_type": "markdown",
   "id": "8a61bc80",
   "metadata": {},
   "source": [
    "# 패키지 관리"
   ]
  },
  {
   "cell_type": "markdown",
   "id": "5e0541c6",
   "metadata": {},
   "source": [
    "::: {.hidden}\n",
    "\n",
    "hidden\n",
    "\n",
    ":::"
   ]
  },
  {
   "cell_type": "markdown",
   "id": "6de7094c",
   "metadata": {},
   "source": [
    "## yum과 dnf"
   ]
  },
  {
   "cell_type": "markdown",
   "id": "8bc368f2",
   "metadata": {},
   "source": [
    "- RHEL에서 패키지관리자는 yum 및 dnf\n",
    "- RHEL7 버전까지는 yum 사용, RHEL8 버전부터 dnf 사용 \n",
    "- yum은 파이썬2 기반, dnf는 파이썬3 기반\n",
    "- RHEL8 이후 버전의 yum은 내부적으로 dnf 호출"
   ]
  },
  {
   "cell_type": "markdown",
   "id": "e0117eb4",
   "metadata": {},
   "source": [
    "## yum"
   ]
  },
  {
   "cell_type": "markdown",
   "id": "2fc2a3a2",
   "metadata": {},
   "source": [
    "### 레포지토리 정보"
   ]
  },
  {
   "cell_type": "markdown",
   "id": "5ffe2320",
   "metadata": {},
   "source": [
    "```bash\n",
    "[root@localhost ~]# yum repolist\n",
    "Loaded plugins: product-id, search-disabled-repos, subscription-manager\n",
    "repo id                                                 repo name                                                      status\n",
    "rhel-7-server-rpms/7Server/x86_64                       Red Hat Enterprise Linux 7 Server (RPMs)                       34,484\n",
    "repolist: 34,484\n",
    "\n",
    "```"
   ]
  },
  {
   "cell_type": "markdown",
   "id": "163ddaa3",
   "metadata": {},
   "source": [
    "```bash\n",
    "[root@localhost ~]# yum repolist -v\n",
    "Not loading \"rhnplugin\" plugin, as it is disabled\n",
    "Loading \"product-id\" plugin\n",
    "Loading \"search-disabled-repos\" plugin\n",
    "Loading \"subscription-manager\" plugin\n",
    "Updating Subscription Management repositories.\n",
    "Config time: 5.104\n",
    "Yum version: 3.4.3\n",
    "Setting up Package Sacks\n",
    "pkgsack time: 0.008\n",
    "Repo-id      : rhel-7-server-rpms/7Server/x86_64\n",
    "Repo-name    : Red Hat Enterprise Linux 7 Server (RPMs)\n",
    "Repo-revision: 1750688071\n",
    "Repo-updated : Mon Jun 23 10:14:31 2025\n",
    "Repo-pkgs    : 34,484\n",
    "Repo-size    : 66 G\n",
    "Repo-baseurl : https://cdn.redhat.com/content/dist/rhel/server/7/7Server/x86_64/os\n",
    "Repo-expire  : 86,400 second(s) (last: Sun Aug 10 23:26:42 2025)\n",
    "  Filter     : read-only:present\n",
    "Repo-filename: /etc/yum.repos.d/redhat.repo\n",
    "\n",
    "repolist: 34,484\n",
    "\n",
    "```"
   ]
  },
  {
   "cell_type": "markdown",
   "id": "1697114f",
   "metadata": {},
   "source": []
  }
 ],
 "metadata": {
  "language_info": {
   "name": "python"
  }
 },
 "nbformat": 4,
 "nbformat_minor": 5
}
